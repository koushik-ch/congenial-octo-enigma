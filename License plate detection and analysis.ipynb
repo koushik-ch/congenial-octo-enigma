{
 "cells": [
  {
   "cell_type": "code",
   "execution_count": 10,
   "metadata": {},
   "outputs": [
    {
     "name": "stdout",
     "output_type": "stream",
     "text": [
      "Detected license plate Number is: 102BM6055\n",
      "\f",
      "\n",
      "Plate dimensions: 97 x 387\n",
      "1 :- Height: 66  Width: 23  Space: 2\n",
      "0 :- Height: 77  Width: 35  Space: 15\n",
      "2 :- Height: 66  Width: 34  Space: 5\n",
      "B :- Height: 66  Width: 35  Space: 17\n",
      "M :- Height: 67  Width: 40  Space: 3\n",
      "6 :- Height: 72  Width: 35  Space: 17\n",
      "0 :- Height: 66  Width: 35  Space: 5\n",
      "5 :- Height: 66  Width: 34  Space: 5\n",
      "5 :- Height: 65  Width: 33  Space: 5\n"
     ]
    }
   ],
   "source": [
    "#Importing the necessary packages\n",
    "import cv2\n",
    "import pytesseract\n",
    "from pytesseract import Output\n",
    "pytesseract.pytesseract.tesseract_cmd = r'C:\\Program Files\\Tesseract-OCR\\tesseract.exe'\n",
    "#Reading the input image\n",
    "img=cv2.imread(r\"C:\\Users\\koush\\.spyder-py3\\car6.jpg\",1)\n",
    "cascade=cv2.CascadeClassifier(r\"C:\\Users\\koush\\.spyder-py3\\haar_cascadeind.xml\")\n",
    "#Dtetecting license plates using a cascade classifier\n",
    "plates=cascade.detectMultiScale(img,1.25,5)\n",
    "for (x,y,w,h) in plates:\n",
    "    cv2.rectangle(img,(x,y),(x+w,y+h),(0,255,0),2)\n",
    "    break\n",
    "crop_img = img[y:y+h, x:x+w]\n",
    "#converting the image into a binary image for OCR\n",
    "license_plate=crop_img.copy()\n",
    "grayImage = cv2.cvtColor(crop_img, cv2.COLOR_BGR2GRAY)\n",
    "(thresh, blackAndWhiteImage) = cv2.threshold(grayImage, 110, 200, cv2.THRESH_BINARY)\n",
    "#applying OCR on the license plate to recoginze the characters\n",
    "text = pytesseract.image_to_string(blackAndWhiteImage,config='--psm 11 -c tessedit_char_whitelist=ABCDEFGHIJKLMNOPQRSTUVWXYZ0123456789')\n",
    "print(\"Detected license plate Number is:\",text)\n",
    "height, width= grayImage.shape #Obtaining the dimensions of the plate\n",
    "print(\"Plate dimensions:\",height,\"x\", width)\n",
    "#Obtaining bounding boxes for each character in the plate\n",
    "boxes=pytesseract.image_to_boxes(blackAndWhiteImage)\n",
    "letters=[]\n",
    "\n",
    "letters[:0]=text\n",
    "previous,count=0,0\n",
    "for s in boxes.splitlines():\n",
    "    s=s.split(' ')\n",
    "    if(s[0]==letters[count]):\n",
    "        x2,y2,w2,h2=int(s[1]),int(s[2]),int(s[3]),int(s[4])\n",
    "        cv2.rectangle(crop_img,(x2,height-y2),(w2,height-h2),(0,0,255),1)\n",
    "        #Calculating the height, width and spacing of each character in the license plate\n",
    "        print(s[0],\":- Height:\",(height-y2)-(height-h2),\" Width:\",(w2-x2),\" Space:\",(x2-previous))\n",
    "        previous=w2\n",
    "        count+=1\n",
    "    else:\n",
    "        continue\n",
    "        \n",
    "    \n",
    "cv2.imshow(\"Boxes\",crop_img)\n",
    "cv2.imshow(\"License plate\",license_plate)\n",
    "\n",
    "cv2.waitKey(0)\n",
    "cv2.destroyAllWindows()\n",
    "\n",
    "\n"
   ]
  },
  {
   "cell_type": "code",
   "execution_count": null,
   "metadata": {},
   "outputs": [],
   "source": []
  },
  {
   "cell_type": "code",
   "execution_count": null,
   "metadata": {},
   "outputs": [],
   "source": []
  }
 ],
 "metadata": {
  "kernelspec": {
   "display_name": "Python 3",
   "language": "python",
   "name": "python3"
  },
  "language_info": {
   "codemirror_mode": {
    "name": "ipython",
    "version": 3
   },
   "file_extension": ".py",
   "mimetype": "text/x-python",
   "name": "python",
   "nbconvert_exporter": "python",
   "pygments_lexer": "ipython3",
   "version": "3.7.6"
  }
 },
 "nbformat": 4,
 "nbformat_minor": 4
}
