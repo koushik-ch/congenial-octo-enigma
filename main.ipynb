{
 "cells": [
  {
   "cell_type": "code",
   "execution_count": null,
   "metadata": {},
   "outputs": [],
   "source": [
    "#Importing the necessary packages\n",
    "import cv2 as cv\n",
    "import pytesseract \n",
    "pytesseract.pytesseract.tesseract_cmd = r'C:\\Program Files\\Tesseract-OCR\\tesseract.exe'\n",
    "#Reading the input image\n",
    "img=cv.imread(r\"C:\\Users\\koush\\.spyder-py3\\car6.jpg\",1)\n",
    "cascade=cv.CascadeClassifier(r\"C:\\Users\\koush\\.spyder-py3\\haar_cascadeind.xml\")\n",
    "#Dtetecting license plates using a cascade classifier\n",
    "plates=cascade.detectMultiScale(img,1.25,5)\n",
    "for (x,y,w,h) in plates:\n",
    "    cv.rectangle(img,(x,y),(x+w,y+h),(0,255,0),2)\n",
    "    break\n",
    "crop_img = img[y:y+h, x:x+w]\n",
    "#converting the image into a binary image for OCR\n",
    "license_plate=crop_img.copy()\n",
    "grayImage = cv.cvtColor(crop_img, cv.COLOR_BGR2GRAY)\n",
    "(thresh, blackAndWhiteImage) = cv.threshold(grayImage, 110, 200, cv.THRESH_BINARY)\n",
    "#applying OCR on the license plate to recoginze the characters\n",
    "text = pytesseract.image_to_string(blackAndWhiteImage,config='--psm 11 -c tessedit_char_whitelist=ABCDEFGHIJKLMNOPQRSTUVWXYZ0123456789')\n",
    "print(\"Detected license plate Number is:\",text)\n",
    "height, width= grayImage.shape #Obtaining the dimensions of the plate\n",
    "print(\"Plate dimensions:\",height,\"x\", width)\n",
    "#Obtaining bounding boxes for each character in the plate\n",
    "boxes=pytesseract.image_to_boxes(blackAndWhiteImage)\n",
    "letters=[]\n",
    "\n",
    "letters[:0]=text\n",
    "previous,count=0,0\n",
    "for s in boxes.splitlines():\n",
    "    s=s.split(' ')\n",
    "    if(s[0]==letters[count]):\n",
    "        x2,y2,w2,h2=int(s[1]),int(s[2]),int(s[3]),int(s[4])\n",
    "        cv.rectangle(crop_img,(x2,height-y2),(w2,height-h2),(0,0,255),1)\n",
    "        #Calculating the height, width and spacing of each character in the license plate\n",
    "        print(s[0],\":- Height:\",(height-y2)-(height-h2),\" Width:\",(w2-x2),\" Space:\",(x2-previous))\n",
    "        previous=w2\n",
    "        count+=1\n",
    "    else:\n",
    "        continue\n",
    "        \n",
    "    \n",
    "cv.imshow(\"Boxes\",crop_img)\n",
    "cv.imshow(\"License plate\",license_plate)\n",
    "\n",
    "cv.waitKey(0)\n",
    "cv.destroyAllWindows()\n",
    "\n",
    "\n"
   ]
  },
  {
   "cell_type": "code",
   "execution_count": null,
   "metadata": {},
   "outputs": [],
   "source": []
  },
  {
   "cell_type": "code",
   "execution_count": null,
   "metadata": {},
   "outputs": [],
   "source": []
  }
 ],
 "metadata": {
  "kernelspec": {
   "display_name": "Python 3",
   "language": "python",
   "name": "python3"
  },
  "language_info": {
   "codemirror_mode": {
    "name": "ipython",
    "version": 3
   },
   "file_extension": ".py",
   "mimetype": "text/x-python",
   "name": "python",
   "nbconvert_exporter": "python",
   "pygments_lexer": "ipython3",
   "version": "3.7.6"
  }
 },
 "nbformat": 4,
 "nbformat_minor": 4
}
